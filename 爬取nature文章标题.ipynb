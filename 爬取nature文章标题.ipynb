{
 "cells": [
  {
   "cell_type": "code",
   "execution_count": 6,
   "metadata": {},
   "outputs": [],
   "source": [
    "# 使用seleinum爬取https://www.nature.com/search?q=cervical+cancer&order=relevance&page=2\n",
    "from selenium import webdriver\n",
    "from selenium.webdriver.common.by import By\n",
    "import pandas as pd\n",
    "# 创建一个浏览器对象"
   ]
  },
  {
   "cell_type": "code",
   "execution_count": 7,
   "metadata": {},
   "outputs": [],
   "source": [
    "driver = webdriver.Chrome()\n",
    "\n",
    "data = []\n",
    "\n",
    "for i in range(11):\n",
    "    # 手动修改搜索关键词\n",
    "    url = \"https://www.nature.com/search?title=cervical+cancer&order=relevance&date_range=2019-2025&journal=nature%2C+natbiomedeng%2C+nbt%2C+ncomms%2C+nmat%2C+nm%2C+nmeth%2C+nnano%2C+npjdigitalmed&page={}\".format(i + 1)\n",
    "    driver.get(url)\n",
    "    # 获取类名为app-article-list-row__item的所有li\n",
    "    article_list = driver.find_elements(By.CLASS_NAME, \"app-article-list-row__item\")\n",
    "    for article in article_list:\n",
    "        # 获取time标签中datetime属性的值\n",
    "        time = article.find_element(By.TAG_NAME, \"time\").get_attribute(\"datetime\")\n",
    "        # 获取属性data-test=\"journal-title-and-link\"的标签文本内容\n",
    "        journal = article.find_element(By.CSS_SELECTOR, \"[data-test='journal-title-and-link']\").text\n",
    "        # 获取a标签的文本内容\n",
    "        title = article.find_element(By.TAG_NAME, \"a\").text\n",
    "        #type\n",
    "        type=article.find_element(By.CLASS_NAME, \"c-meta__type\").text\n",
    "        #获取a标签的href属性\n",
    "        href = article.find_element(By.TAG_NAME, \"a\").get_attribute(\"href\")\n",
    "        # 将数据添加到列表中\n",
    "        data.append([time, journal,type, title,href])\n",
    "\n",
    "# 关闭浏览器\n",
    "driver.quit()\n",
    "\n",
    "# 将数据保存到 Excel 文件\n",
    "df = pd.DataFrame(data, columns=[\"Time\", \"journal title\",\"type\", \"article title\",\"article link\"])\n",
    "df.to_excel(\"./data/nature_articles.xlsx\", index=False)"
   ]
  },
  {
   "cell_type": "code",
   "execution_count": null,
   "metadata": {},
   "outputs": [],
   "source": []
  }
 ],
 "metadata": {
  "kernelspec": {
   "display_name": "Python 3",
   "language": "python",
   "name": "python3"
  },
  "language_info": {
   "codemirror_mode": {
    "name": "ipython",
    "version": 3
   },
   "file_extension": ".py",
   "mimetype": "text/x-python",
   "name": "python",
   "nbconvert_exporter": "python",
   "pygments_lexer": "ipython3",
   "version": "3.10.11"
  }
 },
 "nbformat": 4,
 "nbformat_minor": 2
}
